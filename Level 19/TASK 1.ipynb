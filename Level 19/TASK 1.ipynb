{
  "nbformat": 4,
  "nbformat_minor": 0,
  "metadata": {
    "colab": {
      "provenance": []
    },
    "kernelspec": {
      "name": "python3",
      "display_name": "Python 3"
    },
    "language_info": {
      "name": "python"
    }
  },
  "cells": [
    {
      "cell_type": "code",
      "execution_count": 2,
      "metadata": {
        "id": "5vypnscaeOry"
      },
      "outputs": [],
      "source": [
        "\n",
        "from abc import ABC, abstractmethod\n",
        "\n",
        "\n",
        "class Model(ABC):\n",
        "    @abstractmethod\n",
        "    def train(self, X_train, y_train):\n",
        "        pass\n",
        "\n",
        "\n"
      ]
    }
  ]
}