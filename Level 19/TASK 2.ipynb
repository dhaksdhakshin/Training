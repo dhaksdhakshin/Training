{
  "nbformat": 4,
  "nbformat_minor": 0,
  "metadata": {
    "colab": {
      "provenance": []
    },
    "kernelspec": {
      "name": "python3",
      "display_name": "Python 3"
    },
    "language_info": {
      "name": "python"
    }
  },
  "cells": [
    {
      "cell_type": "code",
      "execution_count": 4,
      "metadata": {
        "id": "5vypnscaeOry"
      },
      "outputs": [],
      "source": [
        "from sklearn.linear_model import LinearRegression\n",
        "from sklearn.datasets import load_diabetes\n",
        "\n",
        "class LinearRegressionModel(Model):\n",
        "    def train(self, X_train, y_train):\n",
        "        reg = LinearRegression()\n",
        "        reg.fit(X_train, y_train)\n",
        "        return reg\n",
        "\n",
        "diabetes = load_diabetes()\n",
        "X_train, y_train = diabetes.data, diabetes.target\n",
        "model = LinearRegressionModel()\n",
        "trained_model = model.train(X_train, y_train)\n",
        "\n",
        "y_pred = trained_model.predict(X_train)\n"
      ]
    }
  ]
}