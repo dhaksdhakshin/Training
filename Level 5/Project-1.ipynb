{
 "cells": [
  {
   "cell_type": "code",
   "execution_count": 1,
   "metadata": {},
   "outputs": [
    {
     "name": "stdout",
     "output_type": "stream",
     "text": [
      "Income: 3500, Expenses: 1950, Balance: 1550\n"
     ]
    }
   ],
   "source": [
    "def calculate_total(items):\n",
    "    \"\"\"Calculate total amount from a dictionary of income or expenses.\"\"\"\n",
    "    return sum(items.values())\n",
    "\n",
    "income = {\n",
    "    \"Salary\": 3000,\n",
    "    \"Freelance\": 500\n",
    "}\n",
    "\n",
    "expenses = {\n",
    "    \"Rent\": 1200,\n",
    "    \"Food\": 400,\n",
    "    \"Utilities\": 200,\n",
    "    \"Entertainment\": 150\n",
    "}\n",
    "total_income = calculate_total(income)\n",
    "total_expenses = calculate_total(expenses)\n",
    "\n",
    "balance = total_income - total_expenses\n",
    "\n",
    "print(f\"Income: {total_income}, Expenses: {total_expenses}, Balance: {balance}\")\n"
   ]
  },
  {
   "cell_type": "code",
   "execution_count": null,
   "metadata": {},
   "outputs": [],
   "source": []
  }
 ],
 "metadata": {
  "kernelspec": {
   "display_name": "Python 3",
   "language": "python",
   "name": "python3"
  },
  "language_info": {
   "codemirror_mode": {
    "name": "ipython",
    "version": 3
   },
   "file_extension": ".py",
   "mimetype": "text/x-python",
   "name": "python",
   "nbconvert_exporter": "python",
   "pygments_lexer": "ipython3",
   "version": "3.10.11"
  }
 },
 "nbformat": 4,
 "nbformat_minor": 2
}
